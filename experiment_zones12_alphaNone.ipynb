{
 "cells": [
  {
   "cell_type": "code",
   "execution_count": null,
   "metadata": {},
   "outputs": [],
   "source": [
    "NUM_ZONES = 12\n",
    "FORECAST_RECENCY_BIAS = None\n",
    "experiment_name = \"zones12_alphaNone\"\n",
    "REPS = [0,1,2]"
   ]
  },
  {
   "cell_type": "code",
   "execution_count": null,
   "metadata": {},
   "outputs": [],
   "source": [
    "from pathlib import Path\n",
    "\n",
    "config_path = Path('environments', 'configuration', 'afghanistan', 'v2')\n",
    "experiment_results_path = Path(\"experiment_results\", experiment_name)\n",
    "path_to_policy_nets = experiment_results_path / \"milestones\""
   ]
  },
  {
   "cell_type": "code",
   "execution_count": null,
   "metadata": {},
   "outputs": [],
   "source": [
    "from environments.medevac import MedevacDispatchingEnvironment\n",
    "from gymnasium.wrappers import FlattenObservation\n",
    "\n",
    "env = MedevacDispatchingEnvironment(\n",
    "    map_config_file=config_path / \"map.csv\",\n",
    "    MTF_config_file=config_path / \"MTFs.csv\", \n",
    "    staging_area_config_file=config_path / \"staging_areas.csv\",\n",
    "    casualty_cluster_center_config_file=config_path / \"casualty_cluster_centers.csv\",\n",
    "    intensity_function_config_file=config_path / \"intensity_function_ranges_1.csv\",\n",
    "    num_zones=NUM_ZONES,\n",
    "    forecast_recency_bias=FORECAST_RECENCY_BIAS,\n",
    "    verbose=False\n",
    "    )\n",
    "\n",
    "state_dim = FlattenObservation(env).observation_space.shape[0]\n",
    "print(f\"State space dimensionality: {state_dim}\")\n",
    "\n",
    "n_actions = env.action_space.n\n",
    "print(f\"Number of actions: {n_actions}\")"
   ]
  },
  {
   "cell_type": "code",
   "execution_count": null,
   "metadata": {},
   "outputs": [],
   "source": [
    "from algorithms.ddqn import DDQN\n",
    "\n",
    "agents = [\n",
    "    DDQN(\n",
    "        env=env,\n",
    "        is_constrained=True,\n",
    "        num_episodes=20000,\n",
    "        milestone_freq=200,\n",
    "        save_path=path_to_policy_nets,\n",
    "        rep=rep,\n",
    "        offset=0,\n",
    "        n_neurons=256,\n",
    "        device='cpu',\n",
    "        memory_size=int(2**19),\n",
    "        learning_rate=1e-4,\n",
    "        batch_size=32,\n",
    "        epsilon_start=1,\n",
    "        epsilon_end=0.1,\n",
    "        epsilon_decay=0.999,\n",
    "        gamma=0.99,\n",
    "        tau=0.005,\n",
    "        policy_net_update_freq=4,\n",
    "        target_net_update_freq=4,\n",
    "    ) for rep in REPS\n",
    "]"
   ]
  },
  {
   "cell_type": "code",
   "execution_count": null,
   "metadata": {},
   "outputs": [],
   "source": [
    "for agent in agents:\n",
    "    agent.train()"
   ]
  },
  {
   "cell_type": "code",
   "execution_count": null,
   "metadata": {},
   "outputs": [],
   "source": [
    "from algorithms.evaluation import EvaluationManager\n",
    "\n",
    "eval_manager = EvaluationManager(\n",
    "    save_path=experiment_results_path,\n",
    "    n_neurons=256,\n",
    "    device='cpu',\n",
    "    env=env,\n",
    "    is_constrained=True,\n",
    "    num_eval_reps=30,\n",
    "    n_jobs=10,\n",
    ")"
   ]
  },
  {
   "cell_type": "code",
   "execution_count": null,
   "metadata": {},
   "outputs": [],
   "source": [
    "eval_manager.evaluate_policy_nets(path_to_policy_nets, parallelize=True)"
   ]
  },
  {
   "cell_type": "code",
   "execution_count": null,
   "metadata": {},
   "outputs": [],
   "source": [
    "eval_manager.determine_summary_statistics(parallelize=True)"
   ]
  },
  {
   "cell_type": "code",
   "execution_count": null,
   "metadata": {},
   "outputs": [],
   "source": [
    "eval_manager.plot_learning_curve(x_spacing=5000, yticks=range(40, 76, 5), ylim=(40, 75))"
   ]
  }
 ],
 "metadata": {
  "kernelspec": {
   "display_name": "medevac",
   "language": "python",
   "name": "python3"
  },
  "language_info": {
   "codemirror_mode": {
    "name": "ipython",
    "version": 3
   },
   "file_extension": ".py",
   "mimetype": "text/x-python",
   "name": "python",
   "nbconvert_exporter": "python",
   "pygments_lexer": "ipython3",
   "version": "3.11.11"
  }
 },
 "nbformat": 4,
 "nbformat_minor": 2
}
